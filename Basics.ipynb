{
 "cells": [
  {
   "cell_type": "markdown",
   "metadata": {},
   "source": [
    "# Board Game Reviews"
   ]
  },
  {
   "cell_type": "markdown",
   "metadata": {},
   "source": [
    "Board games have been making a comeback lately, and deeper, more strategic \n",
    "boardgames, like Settlers of Catan have become hugely popular. A popular site \n",
    "where these types of board games are discussed and reviewed is BoardGameGeek.\n",
    "\n",
    "In this project, the dataset contains 80000 board games and their associated review scores. The data was scraped from BoardGameGeek and compiled into CSV format by Sean Beck. The dataset is stored in board_games.csv"
   ]
  },
  {
   "cell_type": "code",
   "execution_count": 1,
   "metadata": {
    "collapsed": false
   },
   "outputs": [
    {
     "name": "stdout",
     "output_type": "stream",
     "text": [
      "       id       type                                       name  \\\n",
      "0   12333  boardgame                          Twilight Struggle   \n",
      "1  120677  boardgame                              Terra Mystica   \n",
      "2  102794  boardgame                  Caverna: The Cave Farmers   \n",
      "3   25613  boardgame  Through the Ages: A Story of Civilization   \n",
      "4    3076  boardgame                                Puerto Rico   \n",
      "\n",
      "   yearpublished  minplayers  maxplayers  playingtime  minplaytime  \\\n",
      "0         2005.0         2.0         2.0        180.0        180.0   \n",
      "1         2012.0         2.0         5.0        150.0         60.0   \n",
      "2         2013.0         1.0         7.0        210.0         30.0   \n",
      "3         2006.0         2.0         4.0        240.0        240.0   \n",
      "4         2002.0         2.0         5.0        150.0         90.0   \n",
      "\n",
      "   maxplaytime  minage  users_rated  average_rating  bayes_average_rating  \\\n",
      "0        180.0    13.0        20113         8.33774               8.22186   \n",
      "1        150.0    12.0        14383         8.28798               8.14232   \n",
      "2        210.0    12.0         9262         8.28994               8.06886   \n",
      "3        240.0    12.0        13294         8.20407               8.05804   \n",
      "4        150.0    12.0        39883         8.14261               8.04524   \n",
      "\n",
      "   total_owners  total_traders  total_wanters  total_wishers  total_comments  \\\n",
      "0         26647            372           1219           5865            5347   \n",
      "1         16519            132           1586           6277            2526   \n",
      "2         12230             99           1476           5600            1700   \n",
      "3         14343            362           1084           5075            3378   \n",
      "4         44362            795            861           5414            9173   \n",
      "\n",
      "   total_weights  average_weight  \n",
      "0           2562          3.4785  \n",
      "1           1423          3.8939  \n",
      "2            777          3.7761  \n",
      "3           1642          4.1590  \n",
      "4           5213          3.2943  \n"
     ]
    }
   ],
   "source": [
    "import pandas as pd\n",
    "import numpy as np\n",
    "import matplotlib.pyplot as plt\n",
    "%matplotlib inline\n",
    "board_games = pd.read_csv('board_games.csv')\n",
    "print(board_games.head())\n",
    "# Dropping null valued rows\n",
    "board_games.dropna(axis=0,inplace= True)\n",
    "# Drop rows with 0 valued user ratings\n",
    "board_games = board_games[board_games['users_rated']!=0]\n"
   ]
  },
  {
   "cell_type": "code",
   "execution_count": 2,
   "metadata": {
    "collapsed": false
   },
   "outputs": [
    {
     "name": "stdout",
     "output_type": "stream",
     "text": [
      "1.57881605958\n",
      "6.01611284933\n"
     ]
    },
    {
     "data": {
      "image/png": "[encoded data removed]",
      "text/plain": [
       "<matplotlib.figure.Figure at 0x7f62d01ca080>"
      ]
     },
     "metadata": {},
     "output_type": "display_data"
    }
   ],
   "source": [
    "# Analyzing the average_ratings to find out which error metric is suitable\n",
    "plt.hist(board_games['average_rating'])\n",
    "print(np.std(board_games['average_rating']))\n",
    "print(np.mean(board_games['average_rating']))"
   ]
  },
  {
   "cell_type": "markdown",
   "metadata": {},
   "source": [
    "Since the average_rating is continous and follows somewhat normal distribution, we can choose mean square error as error metric."
   ]
  },
  {
   "cell_type": "code",
   "execution_count": 3,
   "metadata": {
    "collapsed": false
   },
   "outputs": [],
   "source": [
    "# Find possible patterns in data \n",
    "from sklearn.cluster import KMeans\n",
    "numeric_columns = board_games.iloc[:,3:]\n",
    "kmeans_model = KMeans(n_clusters=5)\n",
    "distances = kmeans_model.fit(numeric_columns)\n",
    "labels = kmeans_model.labels_"
   ]
  },
  {
   "cell_type": "code",
   "execution_count": 4,
   "metadata": {
    "collapsed": false
   },
   "outputs": [
    {
     "data": {
      "image/png": "[encoded data removed]",
      "text/plain": [
       "<matplotlib.figure.Figure at 0x7f624b9d82e8>"
      ]
     },
     "metadata": {},
     "output_type": "display_data"
    }
   ],
   "source": [
    "# Find possible patterns in data using KMeans clustering\n",
    "game_mean = numeric_columns.apply(np.mean,axis=1)\n",
    "game_std = numeric_columns.apply(np.std,axis=1)\n",
    "plt.scatter(game_mean,game_std,c=labels)\n",
    "plt.show()"
   ]
  },
  {
   "cell_type": "markdown",
   "metadata": {
    "collapsed": true
   },
   "source": [
    "The plot shows that majority of the games are identical as they are grouped \n",
    "together. However, when game attribute values are increased, the relationship \n",
    "between those attributes is decreased thereby reducing the quality of the game."
   ]
  },
  {
   "cell_type": "code",
   "execution_count": 34,
   "metadata": {
    "collapsed": false
   },
   "outputs": [
    {
     "name": "stdout",
     "output_type": "stream",
     "text": [
      "yearpublished           0.108461\n",
      "minplayers             -0.032701\n",
      "maxplayers             -0.008335\n",
      "playingtime             0.048994\n",
      "minplaytime             0.043985\n",
      "maxplaytime             0.048994\n",
      "minage                  0.210049\n",
      "users_rated             0.112564\n",
      "average_rating          1.000000\n",
      "bayes_average_rating    0.231563\n",
      "total_owners            0.137478\n",
      "total_traders           0.119452\n",
      "total_wanters           0.196566\n",
      "total_wishers           0.171375\n",
      "total_comments          0.123714\n",
      "total_weights           0.109691\n",
      "average_weight          0.351081\n",
      "Name: average_rating, dtype: float64\n"
     ]
    }
   ],
   "source": [
    "# Find the correlations between different columns\n",
    "correlations = numeric_columns.corr(method='pearson')\n",
    "print(correlations['average_rating'])"
   ]
  },
  {
   "cell_type": "markdown",
   "metadata": {},
   "source": [
    "Surprisingly, the years published has some good correlation whith average_rating.\n",
    "Also games for older players (minage is high) are also showing high correlation \n",
    "with average_rating."
   ]
  },
  {
   "cell_type": "code",
   "execution_count": 6,
   "metadata": {
    "collapsed": false
   },
   "outputs": [
    {
     "name": "stdout",
     "output_type": "stream",
     "text": [
      "2.09339697583\n"
     ]
    },
    {
     "data": {
      "image/png": "[encoded data removed]",
      "text/plain": [
       "<matplotlib.figure.Figure at 0x7f623db16f98>"
      ]
     },
     "metadata": {},
     "output_type": "display_data"
    }
   ],
   "source": [
    "# Build a linear Regression model to predict average_rating\n",
    "from sklearn.linear_model import LinearRegression\n",
    "reg = LinearRegression()\n",
    "cols = list(board_games.columns)\n",
    "cols.remove(\"name\")\n",
    "cols.remove(\"id\")\n",
    "cols.remove(\"type\")\n",
    "cols.remove(\"average_rating\")\n",
    "cols.remove(\"bayes_average_rating\")\n",
    "reg.fit(board_games[cols],board_games['average_rating'])\n",
    "predictions = reg.predict(board_games[cols])\n",
    "mse = np.mean((predictions - board_games['average_rating'])**2)\n",
    "print(mse)\n",
    "\n",
    "plt.scatter(predictions,board_games['average_rating'])\n",
    "plt.show()"
   ]
  },
  {
   "cell_type": "markdown",
   "metadata": {
    "collapsed": true
   },
   "source": [
    "The error rate is close to standard deviation which implies that the model \n",
    "did not have a high predictive power. Also, the plot show the there is hardly any \n",
    "linear relationship between predictions and average_rating."
   ]
  },
  {
   "cell_type": "markdown",
   "metadata": {},
   "source": [
    "### Accuracy using validation "
   ]
  },
  {
   "cell_type": "code",
   "execution_count": null,
   "metadata": {
    "collapsed": true
   },
   "outputs": [],
   "source": [
    "# shuffled_index = np.random.permutation(board_games.index)\n",
    "shuffled = board_games.loc[shuffled_index]\n",
    "train = shuffled.iloc[0:39800]\n",
    "test = shuffled.iloc[39800:]\n",
    "\n",
    "reg.fit(train[cols],train['average_rating'])\n",
    "predictions = reg.predict(train[cols])\n",
    "mse = np.mean((predictions - train['average_rating'])**2)\n",
    "print(mse)\n",
    "predictions = reg.predict(test[cols])\n",
    "mse = np.mean((predictions - test['average_rating'])**2)\n",
    "print(mse)\n",
    "plt.scatter(predictions,test['average_rating'])\n",
    "plt.show()"
   ]
  },
  {
   "cell_type": "markdown",
   "metadata": {},
   "source": [
    "### Accuracy using K-Fold validation"
   ]
  },
  {
   "cell_type": "code",
   "execution_count": 27,
   "metadata": {
    "collapsed": false
   },
   "outputs": [],
   "source": [
    "from sklearn.cross_validation import KFold\n",
    "from sklearn.cross_validation import cross_val_score"
   ]
  },
  {
   "cell_type": "code",
   "execution_count": 33,
   "metadata": {
    "collapsed": false
   },
   "outputs": [
    {
     "name": "stdout",
     "output_type": "stream",
     "text": [
      "2.08955445689\n",
      "2.10927922208\n",
      "2.09428712419\n",
      "2.09191073243\n",
      "2.09256755322\n",
      "2.09872146461\n",
      "2.10207428397\n",
      "2.05915645454\n",
      "2.08778557277\n",
      "2.11621808324\n"
     ]
    }
   ],
   "source": [
    "kf=KFold(len(board_games),5,shuffle = True,random_state = 8)\n",
    "for train_index, test_index in kf:\n",
    "    train = shuffled.iloc[train_index]\n",
    "    test = shuffled.iloc[test_index]\n",
    "    reg.fit(train[cols],train['average_rating'])\n",
    "    predictions = reg.predict(train[cols])\n",
    "    mse = np.mean((predictions - train['average_rating'])**2)\n",
    "    print(mse)\n",
    "    predictions = reg.predict(test[cols])\n",
    "    mse = np.mean((predictions - test['average_rating'])**2)\n",
    "    print(mse)\n",
    "        "
   ]
  },
  {
   "cell_type": "markdown",
   "metadata": {},
   "source": [
    "The best accuracy that can be achieved usin"
   ]
  },
  {
   "cell_type": "code",
   "execution_count": 36,
   "metadata": {
    "collapsed": false
   },
   "outputs": [
    {
     "name": "stdout",
     "output_type": "stream",
     "text": [
      "2.11746206128\n",
      "2.13159059837\n",
      "2.12197382105\n",
      "2.11352331581\n",
      "2.11970407862\n",
      "2.12257778978\n",
      "2.12825619179\n",
      "2.08841770731\n",
      "2.11387884126\n",
      "2.14592117627\n"
     ]
    }
   ],
   "source": [
    "cols=['minage','average_weight','total_wanters','total_wishers']\n",
    "kf=KFold(len(board_games),5,shuffle = True,random_state = 8)\n",
    "for train_index, test_index in kf:\n",
    "    train = shuffled.iloc[train_index]\n",
    "    test = shuffled.iloc[test_index]\n",
    "    reg.fit(train[cols],train['average_rating'])\n",
    "    predictions = reg.predict(train[cols])\n",
    "    mse = np.mean((predictions - train['average_rating'])**2)\n",
    "    print(mse)\n",
    "    predictions = reg.predict(test[cols])\n",
    "    mse = np.mean((predictions - test['average_rating'])**2)\n",
    "    print(mse)"
   ]
  },
  {
   "cell_type": "code",
   "execution_count": null,
   "metadata": {
    "collapsed": true
   },
   "outputs": [],
   "source": []
  }
 ],
 "metadata": {
  "kernelspec": {
   "display_name": "Python 3",
   "language": "python",
   "name": "python3"
  },
  "language_info": {
   "codemirror_mode": {
    "name": "ipython",
    "version": 3
   },
   "file_extension": ".py",
   "mimetype": "text/x-python",
   "name": "python",
   "nbconvert_exporter": "python",
   "pygments_lexer": "ipython3",
   "version": "3.4.3"
  }
 },
 "nbformat": 4,
 "nbformat_minor": 0
}
